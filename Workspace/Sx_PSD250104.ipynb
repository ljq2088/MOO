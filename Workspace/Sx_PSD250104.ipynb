{
 "cells": [
  {
   "cell_type": "markdown",
   "metadata": {},
   "source": [
    "## 包含测距噪声的灵敏度曲线\n",
    "这个灵敏度曲线用于探测器的优化，主要参考空间中心张佳峰师兄的优化文章，文章链接：https://www.mdpi.com/1424-8220/23/23/9431。\n",
    "顶层灵敏度曲线只包含三个参数，探测器臂长$L$,加速度噪声$S_a$,测距噪声$S_x$。\n",
    "这篇文章实际上只包含了测距噪声，如果可以最好加上加速度噪声。\n",
    "@Copyright: ICTP-ap UCAS Junxi SHI"
   ]
  },
  {
   "cell_type": "code",
   "execution_count": 1,
   "metadata": {},
   "outputs": [],
   "source": [
    "import numpy as np\n",
    "import matplotlib.pyplot as plt\n"
   ]
  },
  {
   "cell_type": "code",
   "execution_count": 2,
   "metadata": {},
   "outputs": [],
   "source": [
    "pi = np.pi\n",
    "GM_sun = 1.3271244*1e20 \n",
    "c =2.9979246*1e8\n",
    "M_sun =1.9884099*1e30\n",
    "G = 6.6743*1e-11\n",
    "pc= 3.0856776*1e16\n",
    "e = 1.6e-19   #库伦"
   ]
  },
  {
   "cell_type": "code",
   "execution_count": 3,
   "metadata": {},
   "outputs": [],
   "source": [
    "#这里首先给出Robson文章中的灵敏度曲线，随后将把Sx的公式整合在里面\n",
    "def PSD_Lisa(f):\n",
    "    \n",
    "    \"\"\"\n",
    "    From https://arxiv.org/pdf/1803.01944.pdf. \n",
    "    \"\"\"\n",
    "\n",
    "    L = 2.5*10**9   # Length of LISA arm\n",
    "    f0 = c/(2*pi*L)   \n",
    "    Sx = 1.5*10**-11\n",
    "    Sa = 3*10**-15\n",
    "    Poms = (Sx**2)*(1 + ((2*10**-3)/f)**4)  # Optical Metrology Sensor\n",
    "    Pacc = Sa**2*(1 + (4*10**-3/(10*f))**2)*(1 + (f/(8*10**-3))**4)  # Acceleration Noise\n",
    "    Sc = 9*10**(-45)*f**(-7/3)*np.exp(-f**0.171 + 292*f*np.sin(1020*f)) * (1 \\\n",
    "                                            + np.tanh(1680*(0.00215 - f)))   # Confusion noise\n",
    "    alpha = 0.171\n",
    "    beta = 292\n",
    "    k =1020\n",
    "    gamma = 1680\n",
    "    f_k = 0.00215 \n",
    "    PSD = ((10/(3*L*L))*(Poms + (4*Pacc)/(np.power(2*pi*f,4)))*(1 + 0.6*(f/f0)*(f/f0)) + Sc) # PSD\n",
    "        \n",
    "    # Handling the zeroth frequency bin\n",
    "    \n",
    "    where_are_NaNs = np.isnan(PSD) \n",
    "    PSD[where_are_NaNs] = 1e100    # at f = 0, PSD is infinite. Approximate infinity and burn my \n",
    "                                   # mathematics degree to the ground. \n",
    "    \n",
    "    return PSD\n",
    "\n"
   ]
  },
  {
   "cell_type": "markdown",
   "metadata": {},
   "source": [
    "### 首先这里把所需的噪声模型打一遍，估计写文章的时候也是需要打的\n",
    "这里首先涉及的是次顶层的，直接与\n",
    "$$"
   ]
  },
  {
   "cell_type": "code",
   "execution_count": 17,
   "metadata": {},
   "outputs": [],
   "source": [
    "#这里给定太极的一些固定参数，如果可以增加LISA的更好\n",
    "eps_het = 0.8   #Heterodyne interference efficiency\n",
    "R_pd = 0.68     #A/W    Photodiode responsivity\n",
    "RIN = 1e-8      #Relative intensity laser noise\n",
    "N_pd = 4.0e-12      #Photo detector phase number\n",
    "U_pd = 2.0e-9   #V/sqrt(Hz)  Photodetectorvoltagenoise\n",
    "C_pd = 10.0e-12 #F    Photodiode capacitance\n",
    "I_pd = 1.5e-12  #A/sqrt(Hz)     Currentnoise\n",
    "P_tel = 2.0     #W   Laser power transmitted through the telescope\n",
    "eps_opt = 0.853 #Totalopticalefficiency\n",
    "L = 3e9         #m\n",
    "D = 0.4         #m     Diameter of telescop"
   ]
  },
  {
   "cell_type": "code",
   "execution_count": 18,
   "metadata": {},
   "outputs": [
    {
     "name": "stdout",
     "output_type": "stream",
     "text": [
      "3.779756903224823e-12\n"
     ]
    }
   ],
   "source": [
    "from scipy.special import jv\n",
    "m = 0   #modulation depth\n",
    "\n",
    "lamb = 1064e-9    #激光波长\n",
    "   \n",
    "#f_uso = 0   #ultrastable oscillator frequency\n",
    "def Sa(paras):\n",
    "    f_low,f_up,f_adc,f_pt,f_uso,m,P_loc = paras     #一共七个优化参数\n",
    "    f_het = f_up    #beat-note frequency\n",
    "    j0 = jv(0,m)    #贝塞尔函数,下同\n",
    "    j1 = jv(1,m)\n",
    "   \n",
    "    P_rec = 0.4073*pi**2*D**4*P_tel*eps_opt/(8*L**2*lamb**2)     #吸收功率\n",
    "\n",
    "    #相位噪声\n",
    "    phi_sn = np.sqrt(2*e*(P_loc+P_rec)/(R_pd*eps_het*P_loc*P_rec))\n",
    "    phi_rin = RIN*np.sqrt((P_loc**2+P_rec**2)/(2*eps_het*P_loc*P_rec))\n",
    "    phi_en = (np.sqrt(2*N_pd)/R_pd)*np.sqrt((I_pd**2+2*pi*C_pd*f_up*U_pd)/(eps_het*P_loc*P_rec))\n",
    "    phi_tot = np.sqrt(phi_sn**2+phi_rin**2+phi_en**2)\n",
    "\n",
    "    #carrier noise and sideband noise\n",
    "    Sa_car = (lamb/2/pi)*(1/j0**2)*phi_tot\n",
    "    Sa_sb = (1/np.sqrt(2))*(lamb/2/pi)*(f_het/f_uso)*(1/j1**2)*phi_tot\n",
    "    \n",
    "    return Sa_car + Sa_sb\n",
    "\n",
    "para_test = [3.0e6,25.0e6,92.0e6,90.0e6,4.14e9,0.44,2.06e-3]\n",
    "print(Sa(para_test))\n"
   ]
  },
  {
   "cell_type": "code",
   "execution_count": 16,
   "metadata": {},
   "outputs": [
    {
     "name": "stdout",
     "output_type": "stream",
     "text": [
      "总相位噪声 phi_tot: 1.866e-05 rad\n",
      "位移噪声: Sa_car=3.485e-12 m, Sa_sb=2.927e-13 m\n",
      "总 Sa: 3.778e-12 meters\n"
     ]
    }
   ],
   "source": [
    "import numpy as np\n",
    "from scipy.special import jv\n",
    "from math import pi\n",
    "\n",
    "\n",
    "e_charge = 1.6e-19      # 库仑 (C)\n",
    "eps_het = 0.8           # 无量纲\n",
    "R_pd = 0.68             # A/W\n",
    "RIN = 1e-8              # W/Hz^0.5\n",
    "N_pd = 4e-12            # rad^2/Hz\n",
    "U_pd = 2e-9             # V/Hz^0.5\n",
    "C_pd = 10e-12           # F\n",
    "Ipd = 1.5e-12           # A/Hz^0.5\n",
    "P_tel = 2.0             # W\n",
    "eps_opt = 0.853         # 无量纲\n",
    "L = 3e9                 # m\n",
    "D = 0.4                 # m (40 cm 转换为米)\n",
    "lamb = 1064e-9          # m\n",
    "delta_f = 1.0           # Hz\n",
    "\n",
    "def Sa(paras):\n",
    "    f_low, f_up, f_adc, f_pt, f_uso, m, P_loc = paras\n",
    "    f_het = f_up  # Beat-note frequency\n",
    "\n",
    "    # 贝塞尔函数\n",
    "    j0 = jv(0, m)\n",
    "    j1 = jv(1, m)\n",
    "\n",
    "\n",
    "  \n",
    "    P_rec = 0.4073 * pi**2 * D**4 * P_tel * eps_opt / (8 * L**2 * lamb**2)\n",
    "  \n",
    "\n",
    "    phi_sn = np.sqrt(2 * e_charge * (P_loc + P_rec) / (R_pd * eps_het * P_loc * P_rec))\n",
    "    phi_rin = RIN * np.sqrt((P_loc**2 + P_rec**2) / (2 * eps_het * P_loc * P_rec))\n",
    "    phi_en = (np.sqrt(2 * N_pd * delta_f) / R_pd) * np.sqrt((Ipd**2 + 2 * pi * C_pd * f_up * U_pd) / (eps_het * P_loc * P_rec))\n",
    "\n",
    "   \n",
    "\n",
    "    # 总相位噪声\n",
    "    phi_tot = np.sqrt(phi_sn**2 + phi_rin**2 + phi_en**2)\n",
    "    print(f\"总相位噪声 phi_tot: {phi_tot:.3e} rad\")\n",
    "\n",
    "    # 位移噪声计算\n",
    "    Sa_car = (lamb / (2 * pi)) * (1 / j0**2) * phi_tot\n",
    "    Sa_sb = (1 / np.sqrt(2)) * (lamb / (2 * pi)) * (f_het / f_uso) * (1 / j1**2) * phi_tot\n",
    "\n",
    "    print(f\"位移噪声: Sa_car={Sa_car:.3e} m, Sa_sb={Sa_sb:.3e} m\")\n",
    "\n",
    "    return Sa_car + Sa_sb\n",
    "\n",
    "# 测试参数\n",
    "para_test = [3.0e6, 25.0e6, 92.0e6, 90.0e6, 4.14e9, 0.44, 2.06e-3]  # [f_low, f_up, f_adc, f_pt, f_uso, m, P_loc]\n",
    "sa_result = Sa(para_test)\n",
    "print(f\"总 Sa: {sa_result:.3e} meters\")\n"
   ]
  }
 ],
 "metadata": {
  "kernelspec": {
   "display_name": "few_env",
   "language": "python",
   "name": "python3"
  },
  "language_info": {
   "codemirror_mode": {
    "name": "ipython",
    "version": 3
   },
   "file_extension": ".py",
   "mimetype": "text/x-python",
   "name": "python",
   "nbconvert_exporter": "python",
   "pygments_lexer": "ipython3",
   "version": "3.12.2"
  }
 },
 "nbformat": 4,
 "nbformat_minor": 2
}
