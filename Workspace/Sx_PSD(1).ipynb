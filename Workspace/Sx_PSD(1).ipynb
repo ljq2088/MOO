{
 "cells": [
  {
   "cell_type": "markdown",
   "metadata": {},
   "source": [
    "## 包含测距噪声的灵敏度曲线\n",
    "这个灵敏度曲线用于探测器的优化，主要参考空间中心张佳峰师兄的优化文章，文章链接：https://www.mdpi.com/1424-8220/23/23/9431。\n",
    "顶层灵敏度曲线只包含三个参数，探测器臂长$L$,加速度噪声$S_a$,测距噪声$S_x$。\n",
    "这篇文章实际上只包含了测距噪声，如果可以最好加上加速度噪声。\n",
    "@Copyright: ICTP-ap UCAS Junxi SHI"
   ]
  },
  {
   "cell_type": "code",
   "execution_count": 144,
   "metadata": {},
   "outputs": [],
   "source": [
    "import numpy as np\n",
    "import matplotlib.pyplot as plt\n"
   ]
  },
  {
   "cell_type": "code",
   "execution_count": 145,
   "metadata": {},
   "outputs": [],
   "source": [
    "pi = np.pi\n",
    "GM_sun = 1.3271244*1e20 \n",
    "c =2.9979246*1e8\n",
    "M_sun =1.9884099*1e30\n",
    "G = 6.6743*1e-11\n",
    "pc= 3.0856776*1e16\n",
    "e = 1.6e-19   #库伦"
   ]
  },
  {
   "cell_type": "code",
   "execution_count": 146,
   "metadata": {},
   "outputs": [],
   "source": [
    "#这里首先给出Robson文章中的灵敏度曲线，随后将把Sx的公式整合在里面\n",
    "def PSD_tj(f):\n",
    "    \n",
    "    \"\"\"\n",
    "    From https://arxiv.org/pdf/1803.01944.pdf. \n",
    "    \"\"\"\n",
    "\n",
    "    L = 3.0*10**9   # Length of LISA arm\n",
    "    f0 = c/(2*pi*L)   \n",
    "    Sx = 8.0*10**-12\n",
    "    Sa = 3*10**-15\n",
    "    Poms = (Sx**2)*(1 + ((2*10**-3)/f)**4)  # Optical Metrology Sensor\n",
    "    Pacc = Sa**2*(1 + (4*10**-3/(10*f))**2)*(1 + (f/(8*10**-3))**4)  # Acceleration Noise\n",
    "    Sc = 9*10**(-45)*f**(-7/3)*np.exp(-f**0.171 + 292*f*np.sin(1020*f)) * (1 \\\n",
    "                                            + np.tanh(1680*(0.00215 - f)))   # Confusion noise\n",
    "    alpha = 0.171\n",
    "    beta = 292\n",
    "    k =1020\n",
    "    gamma = 1680\n",
    "    f_k = 0.00215 \n",
    "    PSD = ((10/(3*L*L))*(Poms + (4*Pacc)/(np.power(2*pi*f,4)))*(1 + 0.6*(f/f0)*(f/f0)) + Sc) # PSD\n",
    "        \n",
    "    # Handling the zeroth frequency bin\n",
    "    \n",
    "    where_are_NaNs = np.isnan(PSD) \n",
    "    PSD[where_are_NaNs] = 1e100    # at f = 0, PSD is infinite. Approximate infinity and burn my \n",
    "                                   # mathematics degree to the ground. \n",
    "    \n",
    "    return PSD"
   ]
  },
  {
   "cell_type": "markdown",
   "metadata": {},
   "source": [
    "### 这里是测距噪声的分解模型\n",
    "函数Sx就是测距噪声，其依赖于7个参数\n",
    "\n",
    "同时，一些太极任务中所需要的参数也已经列出\n",
    "\n",
    "给定Sx所需的参数，便能计算出Sx的数值大小，量级为$10^{-12}$\n",
    "\n",
    "带入灵敏度曲线的公式，即可与太极Default的灵敏度曲线对比，橙色为优化后的"
   ]
  },
  {
   "cell_type": "code",
   "execution_count": 147,
   "metadata": {},
   "outputs": [],
   "source": [
    "#这里给定太极的一些固定参数，如果可以增加LISA的更好\n",
    "eps_het = 0.8   #Heterodyne interference efficiency\n",
    "R_pd = 0.68     #A/W    Photodiode responsivity\n",
    "RIN = 1e-8      #Relative intensity laser noise\n",
    "N_pd = 4.0      #Photo detector phase number\n",
    "U_pd = 2.0e-9   #V/sqrt(Hz)  Photodetectorvoltagenoise\n",
    "C_pd = 10.0e-12 #F    Photodiode capacitance\n",
    "I_pd = 1.5e-12  #A/sqrt(Hz)     Currentnoise\n",
    "P_tel = 2.0     #W   Laser power transmitted through the telescope\n",
    "eps_opt = 0.853 #Totalopticalefficiency\n",
    "L = 3e9         #m\n",
    "D = 0.4         #cm     Diameter of telescope\n"
   ]
  },
  {
   "cell_type": "code",
   "execution_count": 148,
   "metadata": {},
   "outputs": [
    {
     "name": "stdout",
     "output_type": "stream",
     "text": [
      "总 Sa: 4.080e-12 meters\n"
     ]
    }
   ],
   "source": [
    "from scipy.special import jv\n",
    "m = 0   #modulation depth\n",
    "\n",
    "lamb = 1064.0e-9    #激光波长\n",
    "   \n",
    "#f_uso = 0   #ultrastable oscillator frequency\n",
    "def Sx(paras):\n",
    "    f_low,f_up,f_adc,f_pt,f_uso,m,P_loc = paras     #一共七个优化参数\n",
    "\n",
    "    \n",
    "\n",
    "    f_het = f_up    #beat-note frequency\n",
    "    j0 = jv(0,m)    #贝塞尔函数,下同\n",
    "    j1 = jv(1,m)\n",
    "   \n",
    "    P_rec = 0.4073*pi**2*D**4*P_tel*eps_opt/(8*L**2*lamb**2)     #吸收功率\n",
    "\n",
    "    #相位噪声\n",
    "    phi_sn = np.sqrt(2*e*(P_loc+P_rec)/(R_pd*eps_het*P_loc*P_rec))\n",
    "    phi_rin = RIN*np.sqrt((P_loc**2+P_rec**2)/(2*eps_het*P_loc*P_rec))\n",
    "    phi_en = (np.sqrt(2*N_pd)/R_pd)*np.sqrt((I_pd**2+(2*pi*C_pd*f_up*U_pd)**2)/(eps_het*P_loc*P_rec))\n",
    "    phi_tot = np.sqrt(phi_sn**2+phi_rin**2+phi_en**2)\n",
    "\n",
    "    #carrier noise and sideband noise\n",
    "    Sx_car = (lamb/2/pi)*(1/j0**2)*phi_tot\n",
    "    Sx_sb = (1/np.sqrt(2))*(lamb/2/pi)*(f_het/f_uso)*(1/j1**2)*phi_tot\n",
    "    \n",
    "    return Sx_car,Sx_sb\n",
    "\n",
    "para_test = [5.0e6,25.0e6,59.0e6,57.0e6,3.363e9,0.44,2.06e-3]\n",
    "sx_result = Sx(para_test)[0]+Sx(para_test)[1]\n",
    "print(f\"总 Sa: {sx_result:.3e} meters\")\n"
   ]
  },
  {
   "cell_type": "markdown",
   "metadata": {},
   "source": [
    "### 虽然量级对了，但是数值上仍然存在差别，不知为何hh，这里就简单列四个结果把对应number1，5, 13，14，20\n",
    "1：3.694e-12;\n",
    "5：3.727e-12;\n",
    "13：4.078e-12;\n",
    "14：3.627e-12;\n",
    "20：3.760e-12;"
   ]
  },
  {
   "cell_type": "markdown",
   "metadata": {},
   "source": [
    "### 修改为带有测距噪声参数的灵敏度曲线\n"
   ]
  },
  {
   "cell_type": "code",
   "execution_count": 149,
   "metadata": {},
   "outputs": [],
   "source": [
    "#根据robson的灵敏度曲线，修改为带有测距噪声的版本\n",
    "def PSD_tj_Sx(f,paras_for_Sx):\n",
    "    \n",
    "    \"\"\"\n",
    "    From https://arxiv.org/pdf/1803.01944.pdf. \n",
    "    \"\"\"\n",
    "\n",
    "    L = 3.0*10**9   # Length of LISA arm\n",
    "    f0 = c/(2*pi*L)   \n",
    "\n",
    "    #这里将默认的参数替换成优化后的参数\n",
    "    sx = Sx(paras_for_Sx)\n",
    "    sx = sx[0]+sx[1]\n",
    "    sa = 3*10**-15\n",
    "    Poms = (sx**2)*(1 + ((2*10**-3)/f)**4)  # Optical Metrology Sensor\n",
    "    Pacc = sa**2*(1 + (4*10**-3/(10*f))**2)*(1 + (f/(8*10**-3))**4)  # Acceleration Noise\n",
    "\n",
    "\n",
    "    alpha = 0.171\n",
    "    beta = 292\n",
    "    k =1020\n",
    "    gamma = 1680\n",
    "    f_k = 0.00215 \n",
    "    Sc = 9*10**(-45)*f**(-7/3)*np.exp(-f**alpha + beta * f * np.sin(k * f)) * (1 \\\n",
    "                                        + np.tanh(gamma*(f_k - f)))   # Confusion noise\n",
    "    \n",
    "    PSD = ((10/(3*L*L))*(Poms + (4*Pacc)/(np.power(2*pi*f,4)))*(1 + 0.6*(f/f0)*(f/f0)) + Sc) # PSD\n",
    "        \n",
    "    # Handling the zeroth frequency bin\n",
    "    \n",
    "    where_are_NaNs = np.isnan(PSD) \n",
    "    PSD[where_are_NaNs] = 1e100    # at f = 0, PSD is infinite. Approximate infinity and burn my \n",
    "                                   # mathematics degree to the ground. \n",
    "    \n",
    "    return PSD"
   ]
  },
  {
   "cell_type": "code",
   "execution_count": 150,
   "metadata": {},
   "outputs": [
    {
     "data": {
      "image/png": "[encoded data removed]",
      "text/plain": [
       "<Figure size 640x480 with 1 Axes>"
      ]
     },
     "metadata": {},
     "output_type": "display_data"
    }
   ],
   "source": [
    "freq = np.logspace(-5,0,100)\n",
    "plt.plot(freq,np.sqrt(PSD_tj(freq)))\n",
    "plt.plot(freq,np.sqrt(PSD_tj_Sx(freq,para_test)))\n",
    "plt.xlabel('Frequancy')\n",
    "plt.ylabel('ASD')\n",
    "plt.xscale('log')\n",
    "plt.yscale('log')\n",
    "plt.show()"
   ]
  },
  {
   "cell_type": "markdown",
   "metadata": {},
   "source": [
    "### 下面这个代码列出了所有的约束条件，优化结果需要同时满足以下全部约束条件"
   ]
  },
  {
   "cell_type": "code",
   "execution_count": 151,
   "metadata": {},
   "outputs": [],
   "source": [
    "\n",
    "def check_constraints(\n",
    "    delta_x_sideband,  # δx_sideband 来自Sx[1]\n",
    "    delta_x_total,     # δx^total 来自Sx[0]+Sx[1]\n",
    "    f_adc,     # 单位 Hz\n",
    "    f_pt,      # 单位 Hz\n",
    "    f_low,   # 单位 Hz\n",
    "    f_up,   # 单位 Hz\n",
    "    f_uso,     # 单位 Hz\n",
    "    m\n",
    "):\n",
    "    \"\"\"\n",
    "    根据所给约束，判断是否全部满足。\n",
    "    单位约定：\n",
    "      - 各频率 (f_ADC, f_PT, f_lower, f_upper, f_USO) 使用 Hz\n",
    "      - δx_sideband, δx_total 使用同样的位移单位\n",
    "      - m 为无量纲\n",
    "\n",
    "    返回值:\n",
    "      True  - 若所有约束均满足\n",
    "      False - 若有任一约束不满足\n",
    "    \"\"\"\n",
    "\n",
    "    # 1) δx_sideband < (1/10)·δx_total\n",
    "    if not (delta_x_sideband < 0.1 * delta_x_total):\n",
    "        return False\n",
    "\n",
    "    # 2) 判断f_USO能否被f_ADC整除\n",
    "    if not (f_uso % f_adc == 0):\n",
    "        return False\n",
    "\n",
    "    # 3) 判断f_USO能否被f_PT整除\n",
    "    if not (f_uso % f_pt == 0):\n",
    "        return False\n",
    "\n",
    "    # 4) f_ADC > 2 * f_upper\n",
    "    if not (f_adc > 2 * f_up):\n",
    "        return False\n",
    "\n",
    "    # 5) |f_ADC - f_PT| < f_lower\n",
    "    if not (abs(f_adc - f_pt) < f_low):\n",
    "        return False\n",
    "\n",
    "    # 6) f_lower >= 2 MHz  (此处 f_lower 已是 Hz, 因此 2 MHz = 2e6 Hz)\n",
    "    if not (f_low >= 2e6):\n",
    "        return False\n",
    "\n",
    "    # 7) f_upper <= 25 MHz (同理，25 MHz = 25e6 Hz)\n",
    "    if not (f_up <= 25e6):\n",
    "        return False\n",
    "\n",
    "    # 8) f_USO < 5 GHz     (5 GHz = 5e9 Hz)\n",
    "    if not (f_uso < 5e9):\n",
    "        return False\n",
    "\n",
    "    # 9) f_PT < 98 MHz    (98 MHz = 98e6 Hz)\n",
    "    if not (f_pt < 98e6):\n",
    "        return False\n",
    "\n",
    "    # 10) 0.44 < m < 0.61\n",
    "    if not (0.44 < m < 0.61):\n",
    "        return False\n",
    "\n",
    "    # 如果所有判断都通过，则返回 True\n",
    "    return True\n"
   ]
  },
  {
   "cell_type": "markdown",
   "metadata": {},
   "source": [
    "### 另一方面，除了科学目标满足度，还有一些工程上需要尽可能满足的优化目标\n",
    "同时，这也是对优化算法进行初步检验的部分\n",
    "\n",
    "要求优化算法对Gam_1和Gam_2的优化能够接近\n",
    "\n",
    "张佳锋文章中的结果，以保证算法的正常工作\n",
    "\n",
    "景祺先用Gam_1和Gam_2进行优化算法的尝试，目前一些用于比较的数值已列出"
   ]
  },
  {
   "cell_type": "code",
   "execution_count": null,
   "metadata": {},
   "outputs": [],
   "source": [
    "#这里用Gamma加下标表示每个工程优化目标\n",
    "def Func():\n",
    "    return 0\n",
    "def Gam_1(f_low,f_up):\n",
    "    '''\n",
    "    频率的差值需要尽可能大\n",
    "    因此Gam_1的要求是: Max(Gam_1)\n",
    "    '''\n",
    "    f_diff = f_up - f_low\n",
    "    return f_diff\n",
    "\n",
    "def Gam_2(para_for_Sx):\n",
    "    '''\n",
    "    这里是总测距噪声\n",
    "    自然,测距噪声当然是越小越好\n",
    "    所以Gam_2的要求是: Min(Gam_2)\n",
    "    '''\n",
    "    delta_x = Sx(para_for_Sx)\n",
    "    delta_x_tot = delta_x[0]+delta_x[1]\n",
    "    return delta_x_tot\n",
    "\n",
    "def Gam_3(para_for_Sa):\n",
    "    '''\n",
    "    这里是总加速度噪声，自然,加速度噪声当然是越小越好\n",
    "    臂长的增加能够加强探测器的探测能力，但是会对加速度噪声有更高的要求\n",
    "    这里需要构建一个手给的加速度噪声与臂长的关系\n",
    "    同样Gam_3的要求是: Min(Gam_3)\n",
    "    '''\n",
    "    delta_a = Func(L)*3.0e-15\n",
    "    return delta_a\n"
   ]
  },
  {
   "cell_type": "markdown",
   "metadata": {},
   "source": [
    "### 类似的，呈现一些科学目标满足度相关联的优化目标,伪代码\n"
   ]
  },
  {
   "cell_type": "code",
   "execution_count": 153,
   "metadata": {},
   "outputs": [],
   "source": [
    "#用SciOB表示每个科学优化目标\n",
    "def SciOB_1(paras):\n",
    "    '''\n",
    "    信噪比是判断数据强度的最直接特征，越大越好\n",
    "    所以要求: Max(SciOB_1)\n",
    "    '''\n",
    "    weighting_SNR = Func(paras)\n",
    "    return weighting_SNR\n",
    "\n",
    "def SciOB_2(paras):\n",
    "    '''\n",
    "    探测范围正相关与探测数量，事件数当然越多越好\n",
    "    所以要求: Max(SciOB_2)\n",
    "    '''\n",
    "    Detec_range = Func(paras)\n",
    "    return Detec_range\n",
    "\n",
    "def SciOB_3(paras):\n",
    "    '''\n",
    "    Fisher矩阵是最简单和直接的参数估计精度指标\n",
    "    能够给出参数估计的方差，方差越小越好\n",
    "    所以要求: Min(SciOB_3)\n",
    "    '''\n",
    "    weighting_FIM = Func(paras)\n",
    "    return weighting_FIM"
   ]
  }
 ],
 "metadata": {
  "kernelspec": {
   "display_name": "few_env",
   "language": "python",
   "name": "python3"
  },
  "language_info": {
   "codemirror_mode": {
    "name": "ipython",
    "version": 3
   },
   "file_extension": ".py",
   "mimetype": "text/x-python",
   "name": "python",
   "nbconvert_exporter": "python",
   "pygments_lexer": "ipython3",
   "version": "3.12.2"
  }
 },
 "nbformat": 4,
 "nbformat_minor": 2
}
